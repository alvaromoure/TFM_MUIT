{
 "cells": [
  {
   "attachments": {},
   "cell_type": "markdown",
   "metadata": {},
   "source": [
    "# Setup and configuration"
   ]
  },
  {
   "cell_type": "code",
   "execution_count": 2,
   "metadata": {},
   "outputs": [],
   "source": [
    "import sys ,os\n",
    "p = os.path.abspath('../..')\n",
    "if p not in sys.path:\n",
    "    sys.path.append(p)"
   ]
  },
  {
   "cell_type": "code",
   "execution_count": 58,
   "metadata": {},
   "outputs": [],
   "source": [
    "import configparser\n",
    "import glob\n",
    "import pandas as pd\n",
    "import numpy as np\n",
    "import nibabel as nib\n",
    "import matplotlib.pyplot as plt\n",
    "import pydicom\n",
    "from TFM_MUIT.utils import *\n"
   ]
  },
  {
   "cell_type": "code",
   "execution_count": 59,
   "metadata": {},
   "outputs": [
    {
     "data": {
      "text/plain": [
       "['../config.ini']"
      ]
     },
     "execution_count": 59,
     "metadata": {},
     "output_type": "execute_result"
    }
   ],
   "source": [
    "config = configparser.ConfigParser()\n",
    "config.read(\"../config.ini\")"
   ]
  },
  {
   "attachments": {},
   "cell_type": "markdown",
   "metadata": {},
   "source": [
    "# CNCB_COVID_CT"
   ]
  },
  {
   "cell_type": "code",
   "execution_count": 64,
   "metadata": {},
   "outputs": [
    {
     "name": "stdout",
     "output_type": "stream",
     "text": [
      "/Volumes/Alvaro3TB/Covid/CNCB_COVID_CT/\n"
     ]
    }
   ],
   "source": [
    "CNCB_COVID_CT_PATH = config[\"PATHS\"][\"CNCB_COVID_CT\"]\n",
    "CNCB_COVID_CT_METADATA_PATH = os.path.join(CNCB_COVID_CT_PATH, \"metadata.csv\")\n",
    "CNCB_COVID_CT_UNZIP_FILENAMES_PATH = os.path.join(CNCB_COVID_CT_PATH, \"unzip_filenames.csv\")\n",
    "print(CNCB_COVID_CT_PATH)\n"
   ]
  },
  {
   "cell_type": "code",
   "execution_count": 63,
   "metadata": {},
   "outputs": [
    {
     "data": {
      "text/html": [
       "<div>\n",
       "<style scoped>\n",
       "    .dataframe tbody tr th:only-of-type {\n",
       "        vertical-align: middle;\n",
       "    }\n",
       "\n",
       "    .dataframe tbody tr th {\n",
       "        vertical-align: top;\n",
       "    }\n",
       "\n",
       "    .dataframe thead th {\n",
       "        text-align: right;\n",
       "    }\n",
       "</style>\n",
       "<table border=\"1\" class=\"dataframe\">\n",
       "  <thead>\n",
       "    <tr style=\"text-align: right;\">\n",
       "      <th></th>\n",
       "      <th>patient_id</th>\n",
       "      <th>scan_id</th>\n",
       "      <th>Age</th>\n",
       "      <th>Sex(Male1/Female2)</th>\n",
       "      <th>Critical_illness</th>\n",
       "      <th>Liver_function</th>\n",
       "      <th>Lung_function</th>\n",
       "      <th>Progression (Days)</th>\n",
       "    </tr>\n",
       "  </thead>\n",
       "  <tbody>\n",
       "    <tr>\n",
       "      <th>0</th>\n",
       "      <td>1399</td>\n",
       "      <td>127</td>\n",
       "      <td>57.0</td>\n",
       "      <td>1.0</td>\n",
       "      <td>1</td>\n",
       "      <td>5.0</td>\n",
       "      <td>2.0</td>\n",
       "      <td>0.08</td>\n",
       "    </tr>\n",
       "    <tr>\n",
       "      <th>1</th>\n",
       "      <td>1297</td>\n",
       "      <td>82</td>\n",
       "      <td>55.0</td>\n",
       "      <td>1.0</td>\n",
       "      <td>1</td>\n",
       "      <td>3.0</td>\n",
       "      <td>2.0</td>\n",
       "      <td>0.88</td>\n",
       "    </tr>\n",
       "    <tr>\n",
       "      <th>2</th>\n",
       "      <td>2255</td>\n",
       "      <td>549</td>\n",
       "      <td>3.0</td>\n",
       "      <td>1.0</td>\n",
       "      <td>1</td>\n",
       "      <td>NaN</td>\n",
       "      <td>NaN</td>\n",
       "      <td>0.02</td>\n",
       "    </tr>\n",
       "    <tr>\n",
       "      <th>3</th>\n",
       "      <td>1184</td>\n",
       "      <td>26</td>\n",
       "      <td>5.0</td>\n",
       "      <td>2.0</td>\n",
       "      <td>1</td>\n",
       "      <td>0.0</td>\n",
       "      <td>2.0</td>\n",
       "      <td>0.02</td>\n",
       "    </tr>\n",
       "    <tr>\n",
       "      <th>4</th>\n",
       "      <td>1186</td>\n",
       "      <td>27</td>\n",
       "      <td>2.0</td>\n",
       "      <td>2.0</td>\n",
       "      <td>1</td>\n",
       "      <td>2.0</td>\n",
       "      <td>2.0</td>\n",
       "      <td>0.02</td>\n",
       "    </tr>\n",
       "  </tbody>\n",
       "</table>\n",
       "</div>"
      ],
      "text/plain": [
       "   patient_id  scan_id   Age  Sex(Male1/Female2)  Critical_illness  \\\n",
       "0        1399      127  57.0                 1.0                 1   \n",
       "1        1297       82  55.0                 1.0                 1   \n",
       "2        2255      549   3.0                 1.0                 1   \n",
       "3        1184       26   5.0                 2.0                 1   \n",
       "4        1186       27   2.0                 2.0                 1   \n",
       "\n",
       "   Liver_function  Lung_function  Progression (Days)  \n",
       "0             5.0            2.0                0.08  \n",
       "1             3.0            2.0                0.88  \n",
       "2             NaN            NaN                0.02  \n",
       "3             0.0            2.0                0.02  \n",
       "4             2.0            2.0                0.02  "
      ]
     },
     "execution_count": 63,
     "metadata": {},
     "output_type": "execute_result"
    }
   ],
   "source": [
    "cncb_covid_ct_metadata = pd.read_csv(CNCB_COVID_CT_METADATA_PATH)\n",
    "cncb_covid_ct_metadata.head()"
   ]
  },
  {
   "cell_type": "code",
   "execution_count": 66,
   "metadata": {},
   "outputs": [
    {
     "data": {
      "text/html": [
       "<div>\n",
       "<style scoped>\n",
       "    .dataframe tbody tr th:only-of-type {\n",
       "        vertical-align: middle;\n",
       "    }\n",
       "\n",
       "    .dataframe tbody tr th {\n",
       "        vertical-align: top;\n",
       "    }\n",
       "\n",
       "    .dataframe thead th {\n",
       "        text-align: right;\n",
       "    }\n",
       "</style>\n",
       "<table border=\"1\" class=\"dataframe\">\n",
       "  <thead>\n",
       "    <tr style=\"text-align: right;\">\n",
       "      <th></th>\n",
       "      <th>zip_file</th>\n",
       "      <th>label</th>\n",
       "      <th>patient_id</th>\n",
       "      <th>scan_id</th>\n",
       "      <th>n_slice</th>\n",
       "    </tr>\n",
       "  </thead>\n",
       "  <tbody>\n",
       "    <tr>\n",
       "      <th>0</th>\n",
       "      <td>CP-1.zip</td>\n",
       "      <td>CP</td>\n",
       "      <td>0</td>\n",
       "      <td>3131</td>\n",
       "      <td>285</td>\n",
       "    </tr>\n",
       "    <tr>\n",
       "      <th>1</th>\n",
       "      <td>CP-1.zip</td>\n",
       "      <td>CP</td>\n",
       "      <td>0</td>\n",
       "      <td>3132</td>\n",
       "      <td>42</td>\n",
       "    </tr>\n",
       "    <tr>\n",
       "      <th>2</th>\n",
       "      <td>CP-1.zip</td>\n",
       "      <td>CP</td>\n",
       "      <td>0</td>\n",
       "      <td>3133</td>\n",
       "      <td>290</td>\n",
       "    </tr>\n",
       "    <tr>\n",
       "      <th>3</th>\n",
       "      <td>CP-1.zip</td>\n",
       "      <td>CP</td>\n",
       "      <td>0</td>\n",
       "      <td>3134</td>\n",
       "      <td>37</td>\n",
       "    </tr>\n",
       "    <tr>\n",
       "      <th>4</th>\n",
       "      <td>CP-1.zip</td>\n",
       "      <td>CP</td>\n",
       "      <td>0</td>\n",
       "      <td>3135</td>\n",
       "      <td>269</td>\n",
       "    </tr>\n",
       "  </tbody>\n",
       "</table>\n",
       "</div>"
      ],
      "text/plain": [
       "   zip_file label  patient_id  scan_id  n_slice\n",
       "0  CP-1.zip    CP           0     3131      285\n",
       "1  CP-1.zip    CP           0     3132       42\n",
       "2  CP-1.zip    CP           0     3133      290\n",
       "3  CP-1.zip    CP           0     3134       37\n",
       "4  CP-1.zip    CP           0     3135      269"
      ]
     },
     "execution_count": 66,
     "metadata": {},
     "output_type": "execute_result"
    }
   ],
   "source": [
    "cncb_unzip_filenames = pd.read_csv(CNCB_COVID_CT_UNZIP_FILENAMES_PATH)\n",
    "cncb_unzip_filenames.head()"
   ]
  },
  {
   "cell_type": "code",
   "execution_count": 67,
   "metadata": {},
   "outputs": [
    {
     "data": {
      "text/plain": [
       "CP        1556\n",
       "NCP       1544\n",
       "Normal    1078\n",
       "Name: label, dtype: int64"
      ]
     },
     "execution_count": 67,
     "metadata": {},
     "output_type": "execute_result"
    }
   ],
   "source": [
    "cncb_unzip_filenames['label'].value_counts()"
   ]
  },
  {
   "attachments": {},
   "cell_type": "markdown",
   "metadata": {},
   "source": [
    "# TCIA-COVID-CT-INITIAL"
   ]
  },
  {
   "cell_type": "code",
   "execution_count": 21,
   "metadata": {},
   "outputs": [],
   "source": [
    "TCIA_COVID_CT_INITIAL_PATH = config[\"PATHS\"][\"TCIA_COVID_CT_INITIAL\"]"
   ]
  },
  {
   "cell_type": "code",
   "execution_count": 22,
   "metadata": {},
   "outputs": [
    {
     "name": "stdout",
     "output_type": "stream",
     "text": [
      "Num of series: 650\n"
     ]
    }
   ],
   "source": [
    "print(f\"Num of series: {get_num_files(TCIA_COVID_CT_INITIAL_PATH)}\")"
   ]
  },
  {
   "attachments": {},
   "cell_type": "markdown",
   "metadata": {},
   "source": [
    "# TCIA_COVID_CT_SERIAL"
   ]
  },
  {
   "cell_type": "code",
   "execution_count": 26,
   "metadata": {},
   "outputs": [],
   "source": [
    "TCIA_COVID_CT_SERIAL_PATH = config[\"PATHS\"][\"TCIA_COVID_CT_SERIAL\"]"
   ]
  },
  {
   "cell_type": "code",
   "execution_count": 27,
   "metadata": {},
   "outputs": [
    {
     "name": "stdout",
     "output_type": "stream",
     "text": [
      "Num of series: 121\n"
     ]
    }
   ],
   "source": [
    "print(f\"Num of series: {get_num_files(TCIA_COVID_CT_SERIAL_PATH)}\")"
   ]
  },
  {
   "attachments": {},
   "cell_type": "markdown",
   "metadata": {},
   "source": [
    "# MIDRC_RICORD_1A"
   ]
  },
  {
   "cell_type": "code",
   "execution_count": 7,
   "metadata": {},
   "outputs": [
    {
     "name": "stdout",
     "output_type": "stream",
     "text": [
      "/Volumes/Alvaro3TB/Covid/MIDRC_RICORD_1A/\n"
     ]
    }
   ],
   "source": [
    "MIDRC_RICORD_1A_PATH = config[\"PATHS\"][\"MIDRC_RICORD_1A\"]\n",
    "MIDRC_RICORD_1A_CLINICAL_DATA_PATH = os.path.join(MIDRC_RICORD_1A_PATH, \"MIDRC-RICORD-1a Clinical Data Jan 13 2021.xlsx\")\n",
    "print(MIDRC_RICORD_1A_PATH)"
   ]
  },
  {
   "cell_type": "code",
   "execution_count": 9,
   "metadata": {},
   "outputs": [
    {
     "data": {
      "text/html": [
       "<div>\n",
       "<style scoped>\n",
       "    .dataframe tbody tr th:only-of-type {\n",
       "        vertical-align: middle;\n",
       "    }\n",
       "\n",
       "    .dataframe tbody tr th {\n",
       "        vertical-align: top;\n",
       "    }\n",
       "\n",
       "    .dataframe thead th {\n",
       "        text-align: right;\n",
       "    }\n",
       "</style>\n",
       "<table border=\"1\" class=\"dataframe\">\n",
       "  <thead>\n",
       "    <tr style=\"text-align: right;\">\n",
       "      <th></th>\n",
       "      <th>Anon MRN</th>\n",
       "      <th>Anon Age</th>\n",
       "      <th>AnonTCIA Study Date</th>\n",
       "      <th>Anon Exam Description</th>\n",
       "      <th>Anon Sex</th>\n",
       "      <th>Anon Study UID</th>\n",
       "      <th>Anon Image Count</th>\n",
       "      <th>Modality</th>\n",
       "      <th>Result</th>\n",
       "      <th>Specimen Source</th>\n",
       "    </tr>\n",
       "  </thead>\n",
       "  <tbody>\n",
       "    <tr>\n",
       "      <th>0</th>\n",
       "      <td>419639-000082</td>\n",
       "      <td>84.84</td>\n",
       "      <td>2002-08-02</td>\n",
       "      <td>CT CHEST WITHOUT CONTRAST</td>\n",
       "      <td>F</td>\n",
       "      <td>1.2.826.0.1.3680043.10.474.419639.312580455409...</td>\n",
       "      <td>1226</td>\n",
       "      <td>CT</td>\n",
       "      <td>DETECTED</td>\n",
       "      <td>Pooled NP/OP Swab</td>\n",
       "    </tr>\n",
       "    <tr>\n",
       "      <th>1</th>\n",
       "      <td>419639-000361</td>\n",
       "      <td>50.61</td>\n",
       "      <td>2002-10-21</td>\n",
       "      <td>CT CHEST WITHOUT CONTRAST</td>\n",
       "      <td>F</td>\n",
       "      <td>1.2.826.0.1.3680043.10.474.419639.426473907903...</td>\n",
       "      <td>1139</td>\n",
       "      <td>CT</td>\n",
       "      <td>DETECTED</td>\n",
       "      <td>Nasopharyngeal Swab</td>\n",
       "    </tr>\n",
       "    <tr>\n",
       "      <th>2</th>\n",
       "      <td>419639-000421</td>\n",
       "      <td>63.41</td>\n",
       "      <td>2006-12-05</td>\n",
       "      <td>CT CHEST WITHOUT CONTRAST</td>\n",
       "      <td>M</td>\n",
       "      <td>1.2.826.0.1.3680043.10.474.419639.308001698749...</td>\n",
       "      <td>965</td>\n",
       "      <td>CT</td>\n",
       "      <td>DETECTED</td>\n",
       "      <td>Nasopharyngeal Swab</td>\n",
       "    </tr>\n",
       "    <tr>\n",
       "      <th>3</th>\n",
       "      <td>419639-000582</td>\n",
       "      <td>63.93</td>\n",
       "      <td>2002-12-06</td>\n",
       "      <td>CT CHEST WITH CONTRAST</td>\n",
       "      <td>M</td>\n",
       "      <td>1.2.826.0.1.3680043.10.474.419639.317104088349...</td>\n",
       "      <td>1141</td>\n",
       "      <td>CT</td>\n",
       "      <td>DETECTED</td>\n",
       "      <td>Pooled NP/OP Swab</td>\n",
       "    </tr>\n",
       "    <tr>\n",
       "      <th>4</th>\n",
       "      <td>419639-000800</td>\n",
       "      <td>48.25</td>\n",
       "      <td>2005-05-11</td>\n",
       "      <td>CT CHEST WITHOUT CONTRAST</td>\n",
       "      <td>F</td>\n",
       "      <td>1.2.826.0.1.3680043.10.474.419639.119157449661...</td>\n",
       "      <td>1079</td>\n",
       "      <td>CT</td>\n",
       "      <td>DETECTED</td>\n",
       "      <td>NaN</td>\n",
       "    </tr>\n",
       "  </tbody>\n",
       "</table>\n",
       "</div>"
      ],
      "text/plain": [
       "        Anon MRN  Anon Age AnonTCIA Study Date      Anon Exam Description  \\\n",
       "0  419639-000082     84.84          2002-08-02  CT CHEST WITHOUT CONTRAST   \n",
       "1  419639-000361     50.61          2002-10-21  CT CHEST WITHOUT CONTRAST   \n",
       "2  419639-000421     63.41          2006-12-05  CT CHEST WITHOUT CONTRAST   \n",
       "3  419639-000582     63.93          2002-12-06     CT CHEST WITH CONTRAST   \n",
       "4  419639-000800     48.25          2005-05-11  CT CHEST WITHOUT CONTRAST   \n",
       "\n",
       "  Anon Sex                                     Anon Study UID  \\\n",
       "0        F  1.2.826.0.1.3680043.10.474.419639.312580455409...   \n",
       "1        F  1.2.826.0.1.3680043.10.474.419639.426473907903...   \n",
       "2        M  1.2.826.0.1.3680043.10.474.419639.308001698749...   \n",
       "3        M  1.2.826.0.1.3680043.10.474.419639.317104088349...   \n",
       "4        F  1.2.826.0.1.3680043.10.474.419639.119157449661...   \n",
       "\n",
       "   Anon Image Count Modality    Result      Specimen Source  \n",
       "0              1226       CT  DETECTED    Pooled NP/OP Swab  \n",
       "1              1139       CT  DETECTED  Nasopharyngeal Swab  \n",
       "2               965       CT  DETECTED  Nasopharyngeal Swab  \n",
       "3              1141       CT  DETECTED    Pooled NP/OP Swab  \n",
       "4              1079       CT  DETECTED                  NaN  "
      ]
     },
     "execution_count": 9,
     "metadata": {},
     "output_type": "execute_result"
    }
   ],
   "source": [
    "midrc_ricord_1a_clinical_data = pd.read_excel(MIDRC_RICORD_1A_CLINICAL_DATA_PATH)\n",
    "midrc_ricord_1a_clinical_data.head()"
   ]
  },
  {
   "cell_type": "code",
   "execution_count": 32,
   "metadata": {},
   "outputs": [
    {
     "data": {
      "text/plain": [
       "Anon Sex\n",
       "M           69\n",
       "F           41\n",
       "dtype: int64"
      ]
     },
     "execution_count": 32,
     "metadata": {},
     "output_type": "execute_result"
    }
   ],
   "source": [
    "midrc_ricord_1a_clinical_data[['Anon MRN', 'Anon Sex']].groupby(\"Anon MRN\").agg(max).value_counts()"
   ]
  },
  {
   "cell_type": "code",
   "execution_count": 13,
   "metadata": {},
   "outputs": [
    {
     "data": {
      "text/plain": [
       "59"
      ]
     },
     "execution_count": 13,
     "metadata": {},
     "output_type": "execute_result"
    }
   ],
   "source": [
    "midrc_ricord_1a_clinical_data['Anon Age'].nunique()"
   ]
  },
  {
   "attachments": {},
   "cell_type": "markdown",
   "metadata": {},
   "source": [
    "# MIDRC_RICORD_1B"
   ]
  },
  {
   "cell_type": "code",
   "execution_count": 21,
   "metadata": {},
   "outputs": [
    {
     "name": "stdout",
     "output_type": "stream",
     "text": [
      "/Volumes/Alvaro3TB/Covid/MIDRC_RICORD_1B/\n"
     ]
    }
   ],
   "source": [
    "MIDRC_RICORD_1B_PATH = config[\"PATHS\"][\"MIDRC_RICORD_1B\"]\n",
    "MIDRC_RICORD_1B_CLINICAL_DATA_PATH = os.path.join(MIDRC_RICORD_1B_PATH, \"MIDRC-RICORD-1b Clinical Data Feb 2021.xlsx\")\n",
    "print(MIDRC_RICORD_1B_PATH)"
   ]
  },
  {
   "cell_type": "code",
   "execution_count": 22,
   "metadata": {},
   "outputs": [
    {
     "data": {
      "text/html": [
       "<div>\n",
       "<style scoped>\n",
       "    .dataframe tbody tr th:only-of-type {\n",
       "        vertical-align: middle;\n",
       "    }\n",
       "\n",
       "    .dataframe tbody tr th {\n",
       "        vertical-align: top;\n",
       "    }\n",
       "\n",
       "    .dataframe thead th {\n",
       "        text-align: right;\n",
       "    }\n",
       "</style>\n",
       "<table border=\"1\" class=\"dataframe\">\n",
       "  <thead>\n",
       "    <tr style=\"text-align: right;\">\n",
       "      <th></th>\n",
       "      <th>Anon MRN</th>\n",
       "      <th>Anon Age</th>\n",
       "      <th>Anon Study Date</th>\n",
       "      <th>Anon Exam Description</th>\n",
       "      <th>Anon Sex</th>\n",
       "      <th>Anon Study UID</th>\n",
       "      <th>Anon Image Count</th>\n",
       "      <th>Modality</th>\n",
       "      <th>Symptomatic</th>\n",
       "      <th>Result</th>\n",
       "      <th>Specimen Source</th>\n",
       "    </tr>\n",
       "  </thead>\n",
       "  <tbody>\n",
       "    <tr>\n",
       "      <th>0</th>\n",
       "      <td>419639-000340</td>\n",
       "      <td>59.93</td>\n",
       "      <td>2005-01-18</td>\n",
       "      <td>CT CHEST HIGH RESOLUTION</td>\n",
       "      <td>F</td>\n",
       "      <td>1.2.826.0.1.3680043.10.474.419639.209133109710...</td>\n",
       "      <td>216</td>\n",
       "      <td>CT</td>\n",
       "      <td>YES</td>\n",
       "      <td>NOT DETECTED</td>\n",
       "      <td>Nasopharyngeal Swab</td>\n",
       "    </tr>\n",
       "    <tr>\n",
       "      <th>1</th>\n",
       "      <td>419639-000350</td>\n",
       "      <td>77.46</td>\n",
       "      <td>2006-02-09</td>\n",
       "      <td>CT CHEST WITHOUT CONTRAST</td>\n",
       "      <td>F</td>\n",
       "      <td>1.2.826.0.1.3680043.10.474.419639.856628220559...</td>\n",
       "      <td>225</td>\n",
       "      <td>CT</td>\n",
       "      <td>YES</td>\n",
       "      <td>NOT DETECTED</td>\n",
       "      <td>Nasopharyngeal Swab</td>\n",
       "    </tr>\n",
       "    <tr>\n",
       "      <th>2</th>\n",
       "      <td>419639-000425</td>\n",
       "      <td>78.10</td>\n",
       "      <td>2002-05-28</td>\n",
       "      <td>CT CHEST WITHOUT CONTRAST</td>\n",
       "      <td>M</td>\n",
       "      <td>1.2.826.0.1.3680043.10.474.419639.167137291084...</td>\n",
       "      <td>251</td>\n",
       "      <td>CT</td>\n",
       "      <td>YES</td>\n",
       "      <td>NOT DETECTED</td>\n",
       "      <td>Nasopharyngeal Swab</td>\n",
       "    </tr>\n",
       "    <tr>\n",
       "      <th>3</th>\n",
       "      <td>419639-000474</td>\n",
       "      <td>67.47</td>\n",
       "      <td>2009-03-30</td>\n",
       "      <td>CT CHEST PULMONARY EMBOLISM (CTPE)</td>\n",
       "      <td>M</td>\n",
       "      <td>1.2.826.0.1.3680043.10.474.419639.142013724682...</td>\n",
       "      <td>241</td>\n",
       "      <td>CT</td>\n",
       "      <td>YES</td>\n",
       "      <td>NOT DETECTED</td>\n",
       "      <td>Pooled NP/OP Swab</td>\n",
       "    </tr>\n",
       "    <tr>\n",
       "      <th>4</th>\n",
       "      <td>419639-000485</td>\n",
       "      <td>35.53</td>\n",
       "      <td>2002-10-19</td>\n",
       "      <td>CT CHEST WITH CONTRAST</td>\n",
       "      <td>M</td>\n",
       "      <td>1.2.826.0.1.3680043.10.474.419639.112773344213...</td>\n",
       "      <td>205</td>\n",
       "      <td>CT</td>\n",
       "      <td>YES</td>\n",
       "      <td>NOT DETECTED</td>\n",
       "      <td>Nasopharyngeal Swab</td>\n",
       "    </tr>\n",
       "  </tbody>\n",
       "</table>\n",
       "</div>"
      ],
      "text/plain": [
       "        Anon MRN  Anon Age Anon Study Date  \\\n",
       "0  419639-000340     59.93      2005-01-18   \n",
       "1  419639-000350     77.46      2006-02-09   \n",
       "2  419639-000425     78.10      2002-05-28   \n",
       "3  419639-000474     67.47      2009-03-30   \n",
       "4  419639-000485     35.53      2002-10-19   \n",
       "\n",
       "                Anon Exam Description Anon Sex  \\\n",
       "0            CT CHEST HIGH RESOLUTION        F   \n",
       "1           CT CHEST WITHOUT CONTRAST        F   \n",
       "2           CT CHEST WITHOUT CONTRAST        M   \n",
       "3  CT CHEST PULMONARY EMBOLISM (CTPE)        M   \n",
       "4              CT CHEST WITH CONTRAST        M   \n",
       "\n",
       "                                      Anon Study UID  Anon Image Count  \\\n",
       "0  1.2.826.0.1.3680043.10.474.419639.209133109710...               216   \n",
       "1  1.2.826.0.1.3680043.10.474.419639.856628220559...               225   \n",
       "2  1.2.826.0.1.3680043.10.474.419639.167137291084...               251   \n",
       "3  1.2.826.0.1.3680043.10.474.419639.142013724682...               241   \n",
       "4  1.2.826.0.1.3680043.10.474.419639.112773344213...               205   \n",
       "\n",
       "  Modality Symptomatic        Result      Specimen Source  \n",
       "0       CT         YES  NOT DETECTED  Nasopharyngeal Swab  \n",
       "1       CT         YES  NOT DETECTED  Nasopharyngeal Swab  \n",
       "2       CT         YES  NOT DETECTED  Nasopharyngeal Swab  \n",
       "3       CT         YES  NOT DETECTED    Pooled NP/OP Swab  \n",
       "4       CT         YES  NOT DETECTED  Nasopharyngeal Swab  "
      ]
     },
     "execution_count": 22,
     "metadata": {},
     "output_type": "execute_result"
    }
   ],
   "source": [
    "midrc_ricord_1b_clinical_data = pd.read_excel(MIDRC_RICORD_1B_CLINICAL_DATA_PATH)\n",
    "midrc_ricord_1b_clinical_data.head()"
   ]
  },
  {
   "cell_type": "code",
   "execution_count": 33,
   "metadata": {},
   "outputs": [
    {
     "data": {
      "text/plain": [
       "Anon Sex\n",
       "F           61\n",
       "M           56\n",
       "dtype: int64"
      ]
     },
     "execution_count": 33,
     "metadata": {},
     "output_type": "execute_result"
    }
   ],
   "source": [
    "midrc_ricord_1b_clinical_data[['Anon MRN', 'Anon Sex']].groupby(\"Anon MRN\").agg(max).value_counts()"
   ]
  },
  {
   "attachments": {},
   "cell_type": "markdown",
   "metadata": {},
   "source": [
    "# COVID_19_AR"
   ]
  },
  {
   "cell_type": "code",
   "execution_count": 36,
   "metadata": {},
   "outputs": [
    {
     "name": "stdout",
     "output_type": "stream",
     "text": [
      "/Volumes/Alvaro3TB/Covid/COVID_19_AR/\n"
     ]
    }
   ],
   "source": [
    "COVID_19_AR_PATH = config[\"PATHS\"][\"COVID_19_AR\"]\n",
    "print(COVID_19_AR_PATH)"
   ]
  },
  {
   "cell_type": "code",
   "execution_count": 41,
   "metadata": {},
   "outputs": [],
   "source": [
    "covid_19_ar_clinical_data = pd.read_excel(os.path.join(COVID_19_AR_PATH, \"COVID-19 AR Clinical Correlates July202020.xlsx\"), skiprows=1)\n",
    "covid_19_ar_metadata = pd.read_csv(os.path.join(COVID_19_AR_PATH, \"data\", \"metadata.csv\"))"
   ]
  },
  {
   "cell_type": "code",
   "execution_count": 55,
   "metadata": {},
   "outputs": [
    {
     "name": "stdout",
     "output_type": "stream",
     "text": [
      "(105, 32)\n"
     ]
    },
    {
     "data": {
      "text/html": [
       "<div>\n",
       "<style scoped>\n",
       "    .dataframe tbody tr th:only-of-type {\n",
       "        vertical-align: middle;\n",
       "    }\n",
       "\n",
       "    .dataframe tbody tr th {\n",
       "        vertical-align: top;\n",
       "    }\n",
       "\n",
       "    .dataframe thead th {\n",
       "        text-align: right;\n",
       "    }\n",
       "</style>\n",
       "<table border=\"1\" class=\"dataframe\">\n",
       "  <thead>\n",
       "    <tr style=\"text-align: right;\">\n",
       "      <th></th>\n",
       "      <th>PATIENT_ID</th>\n",
       "      <th>AGE</th>\n",
       "      <th>SEX</th>\n",
       "      <th>RACE</th>\n",
       "      <th>ZIP</th>\n",
       "      <th>LATEST_BMI</th>\n",
       "      <th>LATEST WEIGHT</th>\n",
       "      <th>LATEST HEIGHT</th>\n",
       "      <th>TUBERCULOSIS</th>\n",
       "      <th>SYSTEMIC LUPUS ERYTHMATOSUS</th>\n",
       "      <th>...</th>\n",
       "      <th>DIABETES TYPE II</th>\n",
       "      <th>TRANSPLANT</th>\n",
       "      <th>HEMODIALYSIS Pre Diagnosis</th>\n",
       "      <th>HEMODIALYSIS Post diagnosis</th>\n",
       "      <th>CANCER</th>\n",
       "      <th>COVID TEST POSITIVE</th>\n",
       "      <th>TEST NAME</th>\n",
       "      <th>ICU Admit</th>\n",
       "      <th># ICU admits</th>\n",
       "      <th>MORTALITY</th>\n",
       "    </tr>\n",
       "  </thead>\n",
       "  <tbody>\n",
       "    <tr>\n",
       "      <th>0</th>\n",
       "      <td>COVID-19-AR-16434409</td>\n",
       "      <td>51</td>\n",
       "      <td>M</td>\n",
       "      <td>BLACK OR AFRICAN AMERICAN</td>\n",
       "      <td>722</td>\n",
       "      <td>37.7</td>\n",
       "      <td>207.0</td>\n",
       "      <td>5' 4\"</td>\n",
       "      <td>N</td>\n",
       "      <td>N</td>\n",
       "      <td>...</td>\n",
       "      <td>Y</td>\n",
       "      <td>N</td>\n",
       "      <td>N</td>\n",
       "      <td>N</td>\n",
       "      <td>N</td>\n",
       "      <td>Y</td>\n",
       "      <td>SARS-CoV-2 (COVID-19)</td>\n",
       "      <td>N</td>\n",
       "      <td>0</td>\n",
       "      <td>N</td>\n",
       "    </tr>\n",
       "  </tbody>\n",
       "</table>\n",
       "<p>1 rows × 32 columns</p>\n",
       "</div>"
      ],
      "text/plain": [
       "             PATIENT_ID  AGE SEX                       RACE  ZIP  LATEST_BMI  \\\n",
       "0  COVID-19-AR-16434409   51   M  BLACK OR AFRICAN AMERICAN  722        37.7   \n",
       "\n",
       "   LATEST WEIGHT LATEST HEIGHT TUBERCULOSIS SYSTEMIC LUPUS ERYTHMATOSUS  ...  \\\n",
       "0          207.0         5' 4\"            N                           N  ...   \n",
       "\n",
       "  DIABETES TYPE II TRANSPLANT HEMODIALYSIS Pre Diagnosis  \\\n",
       "0                Y          N                          N   \n",
       "\n",
       "  HEMODIALYSIS Post diagnosis CANCER COVID TEST POSITIVE  \\\n",
       "0                           N      N                   Y   \n",
       "\n",
       "               TEST NAME ICU Admit # ICU admits MORTALITY  \n",
       "0  SARS-CoV-2 (COVID-19)         N            0         N  \n",
       "\n",
       "[1 rows x 32 columns]"
      ]
     },
     "execution_count": 55,
     "metadata": {},
     "output_type": "execute_result"
    }
   ],
   "source": [
    "print(covid_19_ar_clinical_data.shape)\n",
    "covid_19_ar_clinical_data.head(1)"
   ]
  },
  {
   "cell_type": "code",
   "execution_count": 56,
   "metadata": {},
   "outputs": [
    {
     "data": {
      "text/plain": [
       "Y    105\n",
       "Name: COVID TEST POSITIVE, dtype: int64"
      ]
     },
     "execution_count": 56,
     "metadata": {},
     "output_type": "execute_result"
    }
   ],
   "source": [
    "covid_19_ar_clinical_data['COVID TEST POSITIVE'].value_counts()"
   ]
  },
  {
   "cell_type": "code",
   "execution_count": 57,
   "metadata": {},
   "outputs": [
    {
     "data": {
      "text/plain": [
       "F    53\n",
       "M    52\n",
       "Name: SEX, dtype: int64"
      ]
     },
     "execution_count": 57,
     "metadata": {},
     "output_type": "execute_result"
    }
   ],
   "source": [
    "covid_19_ar_clinical_data['SEX'].value_counts()"
   ]
  },
  {
   "cell_type": "code",
   "execution_count": 43,
   "metadata": {},
   "outputs": [
    {
     "data": {
      "text/html": [
       "<div>\n",
       "<style scoped>\n",
       "    .dataframe tbody tr th:only-of-type {\n",
       "        vertical-align: middle;\n",
       "    }\n",
       "\n",
       "    .dataframe tbody tr th {\n",
       "        vertical-align: top;\n",
       "    }\n",
       "\n",
       "    .dataframe thead th {\n",
       "        text-align: right;\n",
       "    }\n",
       "</style>\n",
       "<table border=\"1\" class=\"dataframe\">\n",
       "  <thead>\n",
       "    <tr style=\"text-align: right;\">\n",
       "      <th></th>\n",
       "      <th>Series UID</th>\n",
       "      <th>Collection</th>\n",
       "      <th>3rd Party Analysis</th>\n",
       "      <th>Data Description URI</th>\n",
       "      <th>Subject ID</th>\n",
       "      <th>Study UID</th>\n",
       "      <th>Study Description</th>\n",
       "      <th>Study Date</th>\n",
       "      <th>Series Description</th>\n",
       "      <th>Manufacturer</th>\n",
       "      <th>Modality</th>\n",
       "      <th>SOP Class Name</th>\n",
       "      <th>SOP Class UID</th>\n",
       "      <th>Number of Images</th>\n",
       "      <th>File Size</th>\n",
       "      <th>File Location</th>\n",
       "      <th>Download Timestamp</th>\n",
       "    </tr>\n",
       "  </thead>\n",
       "  <tbody>\n",
       "    <tr>\n",
       "      <th>0</th>\n",
       "      <td>1.3.6.1.4.1.14519.5.2.1.9999.103.1313063663834...</td>\n",
       "      <td>COVID-19-AR</td>\n",
       "      <td>NO</td>\n",
       "      <td>https://doi.org/10.7937/tcia.2020.py715978</td>\n",
       "      <td>COVID-19-AR-16406488</td>\n",
       "      <td>1.3.6.1.4.1.14519.5.2.1.9999.103.2986119521997...</td>\n",
       "      <td>CT PE CHEST</td>\n",
       "      <td>02-14-2012</td>\n",
       "      <td>locator</td>\n",
       "      <td>Philips</td>\n",
       "      <td>CT</td>\n",
       "      <td>CT Image Storage</td>\n",
       "      <td>1.2.840.10008.5.1.4.1.1.2</td>\n",
       "      <td>1</td>\n",
       "      <td>527.81 KB</td>\n",
       "      <td>./COVID-19-AR/COVID-19-AR-16406488/02-14-2012-...</td>\n",
       "      <td>2023-04-10T13:03:37.319</td>\n",
       "    </tr>\n",
       "  </tbody>\n",
       "</table>\n",
       "</div>"
      ],
      "text/plain": [
       "                                          Series UID   Collection  \\\n",
       "0  1.3.6.1.4.1.14519.5.2.1.9999.103.1313063663834...  COVID-19-AR   \n",
       "\n",
       "  3rd Party Analysis                        Data Description URI  \\\n",
       "0                 NO  https://doi.org/10.7937/tcia.2020.py715978   \n",
       "\n",
       "             Subject ID                                          Study UID  \\\n",
       "0  COVID-19-AR-16406488  1.3.6.1.4.1.14519.5.2.1.9999.103.2986119521997...   \n",
       "\n",
       "  Study Description  Study Date Series Description Manufacturer Modality  \\\n",
       "0       CT PE CHEST  02-14-2012            locator      Philips       CT   \n",
       "\n",
       "     SOP Class Name              SOP Class UID  Number of Images  File Size  \\\n",
       "0  CT Image Storage  1.2.840.10008.5.1.4.1.1.2                 1  527.81 KB   \n",
       "\n",
       "                                       File Location       Download Timestamp  \n",
       "0  ./COVID-19-AR/COVID-19-AR-16406488/02-14-2012-...  2023-04-10T13:03:37.319  "
      ]
     },
     "execution_count": 43,
     "metadata": {},
     "output_type": "execute_result"
    }
   ],
   "source": [
    "covid_19_ar_metadata.head(1)"
   ]
  },
  {
   "cell_type": "code",
   "execution_count": 49,
   "metadata": {},
   "outputs": [
    {
     "data": {
      "text/html": [
       "<div>\n",
       "<style scoped>\n",
       "    .dataframe tbody tr th:only-of-type {\n",
       "        vertical-align: middle;\n",
       "    }\n",
       "\n",
       "    .dataframe tbody tr th {\n",
       "        vertical-align: top;\n",
       "    }\n",
       "\n",
       "    .dataframe thead th {\n",
       "        text-align: right;\n",
       "    }\n",
       "</style>\n",
       "<table border=\"1\" class=\"dataframe\">\n",
       "  <thead>\n",
       "    <tr style=\"text-align: right;\">\n",
       "      <th></th>\n",
       "      <th>Number of Images</th>\n",
       "    </tr>\n",
       "    <tr>\n",
       "      <th>Modality</th>\n",
       "      <th></th>\n",
       "    </tr>\n",
       "  </thead>\n",
       "  <tbody>\n",
       "    <tr>\n",
       "      <th>CR</th>\n",
       "      <td>26</td>\n",
       "    </tr>\n",
       "    <tr>\n",
       "      <th>CT</th>\n",
       "      <td>31673</td>\n",
       "    </tr>\n",
       "    <tr>\n",
       "      <th>DX</th>\n",
       "      <td>236</td>\n",
       "    </tr>\n",
       "  </tbody>\n",
       "</table>\n",
       "</div>"
      ],
      "text/plain": [
       "          Number of Images\n",
       "Modality                  \n",
       "CR                      26\n",
       "CT                   31673\n",
       "DX                     236"
      ]
     },
     "execution_count": 49,
     "metadata": {},
     "output_type": "execute_result"
    }
   ],
   "source": [
    "covid_19_ar_metadata[[\"Modality\", \"Number of Images\"]].groupby(\"Modality\").agg(sum)"
   ]
  },
  {
   "attachments": {},
   "cell_type": "markdown",
   "metadata": {},
   "source": [
    "# Kaggle combined dataset"
   ]
  },
  {
   "cell_type": "markdown",
   "metadata": {},
   "source": []
  }
 ],
 "metadata": {
  "kernelspec": {
   "display_name": "venv",
   "language": "python",
   "name": "python3"
  },
  "language_info": {
   "codemirror_mode": {
    "name": "ipython",
    "version": 3
   },
   "file_extension": ".py",
   "mimetype": "text/x-python",
   "name": "python",
   "nbconvert_exporter": "python",
   "pygments_lexer": "ipython3",
   "version": "3.9.12"
  },
  "orig_nbformat": 4,
  "vscode": {
   "interpreter": {
    "hash": "6137d848f5f69b52ad59b6d234c4c66c9c550b091bc3331398579503971a0800"
   }
  }
 },
 "nbformat": 4,
 "nbformat_minor": 2
}
